{
 "cells": [
  {
   "cell_type": "code",
   "execution_count": 32,
   "metadata": {},
   "outputs": [],
   "source": [
    "import numpy as np"
   ]
  },
  {
   "cell_type": "code",
   "execution_count": 33,
   "metadata": {},
   "outputs": [],
   "source": [
    "class Conv:\n",
    "    def __init__(self, seed = None):\n",
    "        if seed is not None:\n",
    "            self.seed = seed\n",
    "        \n",
    "    def Conv1D(self, X, kernel_size: int):\n",
    "        self.X = X\n",
    "        self.kernel_size = kernel_size\n",
    "        self.kernel = np.random.random_sample(size = (kernel_size))\n",
    "        X_size = self.X.size\n",
    "        output_width = X_size - kernel_size + 1\n",
    "        Y = np.zeros(shape = (output_width))\n",
    "        for i in range(Y.size):\n",
    "            Y[i] = np.sum(self.X[i:i + kernel_size] * self.kernel)\n",
    "        return Y\n",
    "  \n",
    "    def Conv1D_pad(self, X, kernel_size, padding_size):\n",
    "        self.padding_size = padding_size\n",
    "        self.X = np.pad(X, pad_width = padding_size)\n",
    "        self.kernel_size = kernel_size\n",
    "        self.kernel = np.random.random_sample(size = (kernel_size))\n",
    "        X_size = self.X.size\n",
    "        output_width = X_size - kernel_size + 1\n",
    "        Y = np.zeros(shape = (output_width))\n",
    "        for i in range(Y.size):\n",
    "            Y[i] = np.sum(self.X[i:i + kernel_size] * self.kernel)\n",
    "        return Y\n",
    "     \n",
    "    def Conv1D_pad_stride(self, X, kernel_size, padding_size, stride):\n",
    "        self.padding_size = padding_size\n",
    "        self.stride = stride\n",
    "        self.X = np.pad(X, pad_width = padding_size)\n",
    "        self.kernel_size = kernel_size\n",
    "        self.kernel = np.random.random_sample(size = (kernel_size))\n",
    "       \n",
    "        X_size = self.X.size\n",
    "        \n",
    "        output_size = int(((X_size + (2 * padding_size)- kernel_size) / (stride)) + 1)\n",
    "        Y = np.zeros(shape = (output_size))\n",
    "      \n",
    "        for i in range(Y.size):\n",
    "            Y[i] = np.sum(self.X[i * self.stride:i * self.stride +kernel_size] * self.kernel)\n",
    "        return Y\n",
    "  \n",
    "    def Conv1D_pad_stride_dilation(self, X, kernel_size, padding_size, stride, dilation_rate):\n",
    "        self.padding_size = padding_size\n",
    "        self.stride = stride\n",
    "        self.dilation_rate = dilation_rate\n",
    "        self.X = np.pad(X, pad_width=padding_size)\n",
    "\n",
    "        kernel_mask = np.random.random_sample(size=(kernel_size))\n",
    "        self.kernel = self._dilate_1D(kernel_mask, dilation_rate=self.dilation_rate)\n",
    "        \n",
    "        output_size = int(((self.X.size - self.kernel.size) / self.stride) + 1)\n",
    "        Y = np.zeros(shape=(output_size))\n",
    "\n",
    "        for i in range(Y.size):\n",
    "            current_slice = self.X[i * self.stride : (i * self.stride + self.kernel.size)]\n",
    "\n",
    "            Y[i] = np.sum(current_slice * self.kernel) \n",
    "\n",
    "        return Y  \n",
    "  \n",
    "    def Conv1D_pad_stride_dilation_channels(self, X, kernel_size, output_channels, padding_size, stride, dilation_rate):\n",
    "        \n",
    "        '''\n",
    "        X is multiple channels, shape: (Input Channels, Feats per Channel)\n",
    "        Kernel is multiple channels, shape: (Output Channels, Input Channels, Params per Channel)\n",
    "        ''' \n",
    "        \n",
    "        self.padding_size = padding_size\n",
    "        self.stride = stride\n",
    "        self.dilation_rate = dilation_rate\n",
    "        self.X = np.pad(X, pad_width=padding_size)\n",
    "\n",
    "        \n",
    "        kernel_mask = np.random.random_sample(size=(output_channels, X.shape[0], kernel_size))\n",
    "        self.kernel = self._dilate_1D_multiple_channels(kernel_mask, dilation_rate)\n",
    "        \n",
    "        output_size = int(((self.X.shape[1] - self.kernel.shape[2]) / self.stride) + 1)\n",
    "     \n",
    "        Y = np.zeros(shape=(output_channels, output_size))\n",
    "        \n",
    "\n",
    "        for out_ch in range(Y.shape[0]): # solves multiple output channels\n",
    "            for in_ch in range(X.shape[0]):\n",
    "                for i in range(Y.shape[1]): # solves multiple output channels\n",
    "                    \n",
    "                    slice_idx = i*self.stride \n",
    "                \n",
    "                    current_slice = self.X[in_ch, slice_idx:(slice_idx + self.kernel.shape[2])]\n",
    "                    conv_out = []\n",
    "                    \n",
    "                    if current_slice.size != self.kernel.shape[2]:\n",
    "                        break \n",
    "                    \n",
    "                    for in_ch in range(self.kernel.shape[1]): \n",
    "                        conv_ch = current_slice * self.kernel[out_ch, in_ch]\n",
    "                        conv_out.append(conv_ch)\n",
    "                    \n",
    "                    Y[out_ch, i] = np.sum(conv_out)\n",
    "        \n",
    "\n",
    "        print(f\"Input:\\n{X}\\n\")\n",
    "        print(f\"Kernel:\\n{self.kernel}\\n\")\n",
    "        print(f\"Stride:{stride}\\n\")\n",
    "        print(f\"Output Channels: {output_channels}\\n\")\n",
    "        print(f\"Output:\\n{Y}\")\n",
    "        return Y\n",
    "\n",
    "     \n",
    "        \n",
    "    def _dilate_1D(self, kernel, dilation_rate = 2):\n",
    "        dilation_rate -= 1\n",
    "        i = 0\n",
    "        \n",
    "        if len(kernel) == 1:\n",
    "            return kernel\n",
    "        \n",
    "        while i < len(kernel):\n",
    "            if kernel[i] != 0:\n",
    "                kernel = np.concatenate((kernel[:i+1], [0 for _ in range(dilation_rate)], kernel[i+1:])) # works instead of X[i:], as we want to exclude the ith element for the end. we already including that in the former part of the X array.\n",
    "                i += dilation_rate\n",
    "            i += 1\n",
    "            if i == (len(kernel) - 1):\n",
    "                return kernel\n",
    "   \n",
    "    def _dilate_1D_multiple_channels(self, kernel, dilation_rate = 2):\n",
    "               \n",
    "        if kernel.shape[2] == 1:\n",
    "            return kernel\n",
    "      \n",
    "        out_kernel = np.zeros(shape = ( kernel.shape[0], kernel.shape[1], (kernel.shape[2] * dilation_rate - (dilation_rate - 1)))) \n",
    "     \n",
    "        dilation_rate -= 1\n",
    "        \n",
    "        for out_ch in range(kernel.shape[0]): \n",
    "            for in_ch in range(kernel.shape[1]):\n",
    "                i = 0\n",
    "                dilated_row = kernel[out_ch, in_ch, :]\n",
    "                while i < len(dilated_row):\n",
    "                    if dilated_row[i] != 0:\n",
    "                        dilated_row = np.concatenate((dilated_row[:i+1], [0 for _ in range (dilation_rate)], dilated_row[i+1:]))\n",
    "                        i += dilation_rate\n",
    "                    i += 1\n",
    "                    if i == (len(dilated_row) - 1):\n",
    "                        out_kernel[out_ch, in_ch, :] = dilated_row\n",
    "                        break\n",
    "        return out_kernel\n",
    "    \n",
    "    @property\n",
    "    def seed(self):\n",
    "        return self._seed\n",
    "    \n",
    "    @seed.setter\n",
    "    def seed(self, seed):\n",
    "        np.random.seed(seed = seed)\n",
    "        self._seed = seed\n",
    "    \n",
    "    @property\n",
    "    def kernel_size(self):\n",
    "        return self._kernel_size     \n",
    "   \n",
    "    @kernel_size.setter\n",
    "    def kernel_size(self, kernel_size):\n",
    "        assert self.X.size >= kernel_size, ValueError('Kernel cannot be greater than input_vector!')\n",
    "        assert isinstance(kernel_size, int), ValueError('kernel_size must be int for 1D Conv')\n",
    "        self._kernel_size = kernel_size\n",
    "       "
   ]
  },
  {
   "cell_type": "code",
   "execution_count": 34,
   "metadata": {},
   "outputs": [],
   "source": [
    "seed = 1\n",
    "ops = Conv(seed = seed)"
   ]
  },
  {
   "cell_type": "code",
   "execution_count": 35,
   "metadata": {},
   "outputs": [
    {
     "name": "stdout",
     "output_type": "stream",
     "text": [
      "Seed: 1\n",
      "Input: [2 3 2 1 2]\n"
     ]
    }
   ],
   "source": [
    "x = np.array([2, 3, 2, 1, 2])\n",
    "print(f\"Seed: {seed}\") \n",
    "print(f\"Input: {x}\")"
   ]
  },
  {
   "cell_type": "code",
   "execution_count": 36,
   "metadata": {},
   "outputs": [
    {
     "name": "stdout",
     "output_type": "stream",
     "text": [
      "ops.Conv1D(X = x, kernel_size=2)\n",
      "[2.99501749 2.691715   1.5543685  1.85767099]\n"
     ]
    }
   ],
   "source": [
    "Y = ops.Conv1D(X = x, kernel_size=2)\n",
    "print(f\"ops.Conv1D(X = x, kernel_size=2)\\n{Y}\")"
   ]
  },
  {
   "cell_type": "code",
   "execution_count": 37,
   "metadata": {},
   "outputs": [
    {
     "name": "stdout",
     "output_type": "stream",
     "text": [
      "ops.Conv1D_pad(X = x, kernel_size = 2, padding_size=1):\n",
      "[6.04665145e-01 9.07226468e-01 6.05008270e-01 3.02561322e-01\n",
      " 6.04779520e-01 2.28749635e-04]\n"
     ]
    }
   ],
   "source": [
    "Y = ops.Conv1D_pad(X = x, kernel_size = 2, padding_size=1)\n",
    "print(f\"ops.Conv1D_pad(X = x, kernel_size = 2, padding_size=1):\\n{Y}\")"
   ]
  },
  {
   "cell_type": "code",
   "execution_count": 38,
   "metadata": {},
   "outputs": [
    {
     "name": "stdout",
     "output_type": "stream",
     "text": [
      "ops.Conv1D_pad_stride(X = x, kernel_size = 2, padding_size=0, stride = 2):\n",
      "[0.57052757 0.38585038]\n"
     ]
    }
   ],
   "source": [
    "Y = ops.Conv1D_pad_stride(X = x, kernel_size = 2, padding_size=0, stride = 2)\n",
    "print(f\"ops.Conv1D_pad_stride(X = x, kernel_size = 2, padding_size=0, stride = 2):\\n{Y}\")"
   ]
  },
  {
   "cell_type": "code",
   "execution_count": 39,
   "metadata": {},
   "outputs": [
    {
     "name": "stdout",
     "output_type": "stream",
     "text": [
      "ops._dilate_1D(X = x, dilation_rate=2):\n",
      "[1 0 2 0 3 0 4]\n",
      "\n"
     ]
    }
   ],
   "source": [
    "kernel = np.array([1, 2, 3, 4])\n",
    "dilated_kernel =  ops._dilate_1D(kernel = kernel, dilation_rate = 2)\n",
    "print(f\"ops._dilate_1D(X = x, dilation_rate=2):\\n{dilated_kernel}\\n\")"
   ]
  },
  {
   "cell_type": "code",
   "execution_count": 40,
   "metadata": {},
   "outputs": [
    {
     "name": "stdout",
     "output_type": "stream",
     "text": [
      "ops.Conv1D_pad_stride_dilation(x, kernel_size=2, padding_size = 2, stride = 2, dilation_rate = 2):\n",
      "[0.69112145 1.75476333 1.09060157 1.22294239 0.90434136 0.18626021]\n",
      "\n"
     ]
    }
   ],
   "source": [
    "x = np.array([2, 3, 4, 5, 1, 2, 3, 4, 1, 2])\n",
    "print(f\"ops.Conv1D_pad_stride_dilation(x, kernel_size=2, padding_size = 2, stride = 2, dilation_rate = 2):\")\n",
    "Y = ops.Conv1D_pad_stride_dilation(x, kernel_size=2, padding_size = 2, stride = 2, dilation_rate = 2) \n",
    "print(f\"{Y}\\n\")"
   ]
  },
  {
   "cell_type": "code",
   "execution_count": 41,
   "metadata": {},
   "outputs": [
    {
     "name": "stdout",
     "output_type": "stream",
     "text": [
      "Input:\n",
      "[[1 2 3 4]\n",
      " [5 6 7 8]]\n",
      "\n",
      "Kernel:\n",
      "[[[0.39676747 0.53881673 0.41919451 0.6852195 ]\n",
      "  [0.20445225 0.87811744 0.02738759 0.67046751]]\n",
      "\n",
      " [[0.4173048  0.55868983 0.14038694 0.19810149]\n",
      "  [0.80074457 0.96826158 0.31342418 0.69232262]]\n",
      "\n",
      " [[0.87638915 0.89460666 0.08504421 0.03905478]\n",
      "  [0.16983042 0.8781425  0.09834683 0.42110763]]]\n",
      "\n",
      "Stride:1\n",
      "\n",
      "Output Channels: 3\n",
      "\n",
      "Output:\n",
      "[[25.47927448]\n",
      " [25.55202594]\n",
      " [20.83262944]]\n"
     ]
    }
   ],
   "source": [
    "x = np.array([[1, 2, 3, 4], [5, 6, 7, 8]])\n",
    "Y = ops.Conv1D_pad_stride_dilation_channels(X = x, kernel_size = 4, output_channels = 3 ,padding_size = 0, stride = 1, dilation_rate=1)"
   ]
  },
  {
   "cell_type": "code",
   "execution_count": null,
   "metadata": {},
   "outputs": [],
   "source": []
  }
 ],
 "metadata": {
  "kernelspec": {
   "display_name": "d2l",
   "language": "python",
   "name": "python3"
  },
  "language_info": {
   "codemirror_mode": {
    "name": "ipython",
    "version": 3
   },
   "file_extension": ".py",
   "mimetype": "text/x-python",
   "name": "python",
   "nbconvert_exporter": "python",
   "pygments_lexer": "ipython3",
   "version": "3.9.19"
  }
 },
 "nbformat": 4,
 "nbformat_minor": 2
}
